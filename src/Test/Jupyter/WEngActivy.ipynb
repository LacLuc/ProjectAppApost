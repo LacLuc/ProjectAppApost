{
 "cells": [
  {
   "cell_type": "code",
   "execution_count": 33,
   "metadata": {},
   "outputs": [],
   "source": [
    "from loteria_caixa import *\n",
    "import re\n"
   ]
  },
  {
   "cell_type": "code",
   "execution_count": 34,
   "metadata": {},
   "outputs": [],
   "source": [
    "#n = int(input('digite o concurso: '))\n",
    "n = 3099\n",
    "if n == 0:\n",
    "  cod = LotoFacil()\n",
    "else:\n",
    "  cod = LotoFacil(n)"
   ]
  },
  {
   "cell_type": "code",
   "execution_count": 35,
   "metadata": {},
   "outputs": [
    {
     "name": "stdout",
     "output_type": "stream",
     "text": [
      "3099 ['01', '05', '06', '07', '08', '10', '11', '12', '17', '18', '20', '21', '22', '23', '25']\n"
     ]
    }
   ],
   "source": [
    "print(cod.numero(), cod.listaDezenas())"
   ]
  },
  {
   "cell_type": "code",
   "execution_count": 36,
   "metadata": {},
   "outputs": [
    {
     "name": "stdout",
     "output_type": "stream",
     "text": [
      "['01', '05', '06', '07', '08', '10', '11', '12', '17', '18', '20', '21', '22', '23', '25']\n"
     ]
    }
   ],
   "source": [
    "print(cod.listaDezenas())"
   ]
  },
  {
   "cell_type": "code",
   "execution_count": 37,
   "metadata": {},
   "outputs": [],
   "source": [
    "def formatLists(): #Limpa os dados e retorna uma lista.\n",
    "    con = cod.listaDezenas()\n",
    "\n",
    "    res = re.sub(\"'\", \"\", con)\n",
    "    return res"
   ]
  },
  {
   "cell_type": "code",
   "execution_count": null,
   "metadata": {},
   "outputs": [],
   "source": [
    "print(formatLists())"
   ]
  },
  {
   "cell_type": "code",
   "execution_count": null,
   "metadata": {},
   "outputs": [],
   "source": [
    "def conferir_aposta_lotofacil(aposta, resultado_sorteio):\n",
    "    # Calcula a interseção dos conjuntos para encontrar os números corretos\n",
    "    acertos = set(aposta).intersection(set(resultado_sorteio))\n",
    "    return len(acertos)\n",
    "\n",
    "# Exemplo de uso:\n",
    "aposta = [1, 3, 5, 7, 9, 11, 13, 15, 17, 19, 21, 23, 24, 25, 2]\n",
    "con = cod.listaDezenas()\n",
    "removed_chars = [\"'\"]\n",
    "chars = set(removed_chars)\n",
    "\n",
    "resultado_sorteio = re.sub(\"'\", \"\", chars)\n",
    "quantidade_acertos = conferir_aposta_lotofacil(aposta, resultado_sorteio)\n",
    "print(f'Você acertou {quantidade_acertos} números!')"
   ]
  },
  {
   "cell_type": "code",
   "execution_count": 1,
   "metadata": {},
   "outputs": [],
   "source": [
    "L1 = [1, 3, 5, 8, 9]\n",
    "L2 = [5, 9, 10, 1, 0]"
   ]
  },
  {
   "cell_type": "code",
   "execution_count": 2,
   "metadata": {},
   "outputs": [
    {
     "name": "stdout",
     "output_type": "stream",
     "text": [
      "[1, 5, 9]\n"
     ]
    }
   ],
   "source": [
    "L3 =[]\n",
    "\n",
    "for i in L1:\n",
    "  for j in L2:\n",
    "    if j == i:\n",
    "      L3.append(i)\n",
    "print(L3)"
   ]
  },
  {
   "cell_type": "code",
   "execution_count": null,
   "metadata": {},
   "outputs": [],
   "source": [
    "def NumberCount(string_input):\n",
    "    try:\n",
    "        with open(f'{string_input}.txt', 'r') as file:\n",
    "            content = file.readlines()\n",
    "            num_records = len(content)\n",
    "            return num_records\n",
    "    except FileNotFoundError:\n",
    "        return \"Arquivo não encontrado.\"\n",
    "\n",
    "# Exemplo de uso:\n",
    "nome_arquivo = \"meu_arquivo\"  # Substitua pelo nome do seu arquivo (sem a extensão .txt)\n",
    "quantidade_registros = NumberCount(nome_arquivo)\n",
    "print(f\"Quantidade de registros no arquivo {nome_arquivo}.txt: {quantidade_registros}\")"
   ]
  },
  {
   "cell_type": "code",
   "execution_count": 11,
   "metadata": {},
   "outputs": [],
   "source": [
    "import pandas as pd\n",
    "\n",
    "def selectDados():\n",
    "    try:\n",
    "        with open(f'wdb_ProbAllArkivo.txt', 'r', encoding='utf-8') as file:\n",
    "            content = file.readlines()\n",
    "        return content\n",
    "    except ValueError:\n",
    "        print(f'Existe Um Erro')\n",
    "\n",
    "probaby = selectDados()\n",
    "\n",
    "#df = pd.DataFrame(probaby)"
   ]
  },
  {
   "cell_type": "code",
   "execution_count": null,
   "metadata": {},
   "outputs": [],
   "source": [
    "df = probaby['Aposta']\n",
    "print(df)"
   ]
  },
  {
   "cell_type": "code",
   "execution_count": 1,
   "metadata": {},
   "outputs": [
    {
     "name": "stdout",
     "output_type": "stream",
     "text": [
      "{'chave1': 'valor1',\n",
      " 'chave2': {'chave_aninhada1': 'valor_aninhado1',\n",
      "            'chave_aninhada2': 'valor_aninhado2'}}\n"
     ]
    }
   ],
   "source": [
    "from pprint import pprint\n",
    " \n",
    "my_dict = {\"chave1\": \"valor1\", \"chave2\": {\"chave_aninhada1\": \"valor_aninhado1\", \"chave_aninhada2\": \"valor_aninhado2\"}}\n",
    "pprint(my_dict)"
   ]
  },
  {
   "cell_type": "code",
   "execution_count": 2,
   "metadata": {},
   "outputs": [
    {
     "name": "stdout",
     "output_type": "stream",
     "text": [
      "{   'chave1': 'valor1',\n",
      "    'chave2': {   'chave_aninhada1': 'valor_aninhado1',\n",
      "                  'chave_aninhada2': 'valor_aninhado2'}}\n"
     ]
    }
   ],
   "source": [
    "from pprint import pprint\n",
    " \n",
    "my_dict = {\"chave1\": \"valor1\", \"chave2\": {\"chave_aninhada1\": \"valor_aninhado1\", \"chave_aninhada2\": \"valor_aninhado2\"}}\n",
    "pprint(my_dict, indent=4)"
   ]
  },
  {
   "cell_type": "code",
   "execution_count": 3,
   "metadata": {},
   "outputs": [
    {
     "name": "stdout",
     "output_type": "stream",
     "text": [
      "{'chave1': 'valor1',\n",
      " 'chave2': {'chave_aninhada1': 'valor_aninhado1',\n",
      "            'chave_aninhada2': 'valor_aninhado2'}}\n"
     ]
    }
   ],
   "source": [
    "from pprint import pprint\n",
    " \n",
    "my_dict = {\"chave1\": \"valor1\", \"chave2\": {\"chave_aninhada1\": \"valor_aninhado1\", \"chave_aninhada2\": \"valor_aninhado2\"}}\n",
    "pprint(my_dict, width=40)"
   ]
  },
  {
   "cell_type": "code",
   "execution_count": 4,
   "metadata": {},
   "outputs": [
    {
     "name": "stdout",
     "output_type": "stream",
     "text": [
      "{'chave1': 'valor1',\n",
      " 'chave2': {'chave_aninhada1': 'valor_aninhado1',\n",
      "            'chave_aninhada2': 'valor_aninhado2'}}\n"
     ]
    }
   ],
   "source": [
    "from pprint import pformat\n",
    " \n",
    "my_dict = {\"chave1\": \"valor1\", \"chave2\": {\"chave_aninhada1\": \"valor_aninhado1\", \"chave_aninhada2\": \"valor_aninhado2\"}}\n",
    "pretty_string = pformat(my_dict)\n",
    "print(pretty_string)"
   ]
  }
 ],
 "metadata": {
  "kernelspec": {
   "display_name": ".venv",
   "language": "python",
   "name": "python3"
  },
  "language_info": {
   "codemirror_mode": {
    "name": "ipython",
    "version": 3
   },
   "file_extension": ".py",
   "mimetype": "text/x-python",
   "name": "python",
   "nbconvert_exporter": "python",
   "pygments_lexer": "ipython3",
   "version": "3.10.14"
  }
 },
 "nbformat": 4,
 "nbformat_minor": 2
}
