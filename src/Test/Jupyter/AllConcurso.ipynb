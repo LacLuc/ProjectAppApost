{
 "cells": [
  {
   "cell_type": "markdown",
   "metadata": {},
   "source": [
    "Criar um programa  com varias funções, para validar us id que já está registrado e os que vão ser registrado, não deixar salva r mais de uma vez,\n",
    "Claro! Vamos criar um programa em Python que tenha várias funções para validar IDs, garantindo que não sejam registrados mais de uma vez. Aqui está um exemplo básico:\n",
    "\n",
    "Neste exemplo, temos uma classe IDValidator com três funções principais:\n",
    "\n",
    "is_registered(id): Verifica se um ID já está registrado.\n",
    "register_id(id): Registra um novo ID se ele ainda não estiver registrado.\n",
    "unregister_id(id): Remove um ID registrado.\n",
    "Você pode expandir este programa conforme necessário para atender a requisitos mais específicos. Se precisar de mais alguma coisa ou tiver dúvidas, estou aqui para ajudar!"
   ]
  },
  {
   "cell_type": "code",
   "execution_count": null,
   "metadata": {},
   "outputs": [],
   "source": [
    "class IDValidator:\n",
    "    def __init__(self):\n",
    "        self.registered_ids = set()\n",
    "\n",
    "    def is_registered(self, id):\n",
    "        \"\"\"Verifica se o ID já está registrado.\"\"\"\n",
    "        return id in self.registered_ids\n",
    "\n",
    "    def register_id(self, id):\n",
    "        \"\"\"Registra um novo ID se ainda não estiver registrado.\"\"\"\n",
    "        if self.is_registered(id):\n",
    "            print(f\"ID {id} já está registrado.\")\n",
    "            return False\n",
    "        else:\n",
    "            self.registered_ids.add(id)\n",
    "            print(f\"ID {id} registrado com sucesso.\")\n",
    "            return True\n",
    "\n",
    "    def unregister_id(self, id):\n",
    "        \"\"\"Remove um ID registrado.\"\"\"\n",
    "        if self.is_registered(id):\n",
    "            self.registered_ids.remove(id)\n",
    "            print(f\"ID {id} removido com sucesso.\")\n",
    "            return True\n",
    "        else:\n",
    "            print(f\"ID {id} não está registrado.\")\n",
    "            return False\n",
    "\n",
    "# Exemplo de uso\n",
    "validator = IDValidator()\n",
    "validator.register_id(\"123\")\n",
    "validator.register_id(\"123\")  # Tentativa de registrar o mesmo ID novamente\n",
    "validator.unregister_id(\"123\")\n",
    "validator.unregister_id(\"123\")  # Tentativa de remover um ID não registrado\n"
   ]
  },
  {
   "cell_type": "markdown",
   "metadata": {},
   "source": [
    "Crie varias funções para validar três tabalas, a tabela nº1 existe 3 milhoes de registos com ID, a tabela nº2 existe os itens registado da tabela nº1, depois de validar com a tebela nº3 que existe 2000 registros. não pode salvar mais de um registros na tabela nº2.\n",
    "\n",
    "==>> Vamos criar um programa em Python que valida registros entre três tabelas, garantindo que não haja duplicação na tabela nº2. Aqui está um exemplo:\n",
    "\n",
    "Neste exemplo, temos uma classe IDValidator com as seguintes funções:\n",
    "\n",
    "load_data(table1_data, table3_data): Carrega os dados nas tabelas nº1 e nº3.\n",
    "validate_and_register(id): Valida e registra um ID na tabela nº2, garantindo que não haja duplicação.\n",
    "is_registered_in_table2(id): Verifica se um ID está registrado na tabela nº2.\n",
    "Você pode adaptar este código conforme necessário para lidar com grandes volumes de dados e requisitos específicos. Se precisar de mais alguma coisa ou tiver dúvidas, estou aqui para ajudar!"
   ]
  },
  {
   "cell_type": "code",
   "execution_count": 1,
   "metadata": {},
   "outputs": [
    {
     "name": "stdout",
     "output_type": "stream",
     "text": [
      "ID id_1000 registrado com sucesso na tabela nº2.\n",
      "ID id_1000 já está registrado na tabela nº2.\n",
      "ID id_3000001 não é válido.\n"
     ]
    },
    {
     "data": {
      "text/plain": [
       "False"
      ]
     },
     "execution_count": 1,
     "metadata": {},
     "output_type": "execute_result"
    }
   ],
   "source": [
    "class IDValidator:\n",
    "    def __init__(self):\n",
    "        self.table1 = set()  # Tabela nº1 com 3 milhões de registros\n",
    "        self.table2 = set()  # Tabela nº2 com itens registrados da tabela nº1\n",
    "        self.table3 = set()  # Tabela nº3 com 2000 registros\n",
    "\n",
    "    def load_data(self, table1_data, table3_data):\n",
    "        \"\"\"Carrega os dados nas tabelas nº1 e nº3.\"\"\"\n",
    "        self.table1 = set(table1_data)\n",
    "        self.table3 = set(table3_data)\n",
    "\n",
    "    def validate_and_register(self, id):\n",
    "        \"\"\"Valida e registra um ID na tabela nº2.\"\"\"\n",
    "        if id in self.table1 and id in self.table3:\n",
    "            if id not in self.table2:\n",
    "                self.table2.add(id)\n",
    "                print(f\"ID {id} registrado com sucesso na tabela nº2.\")\n",
    "                return True\n",
    "            else:\n",
    "                print(f\"ID {id} já está registrado na tabela nº2.\")\n",
    "                return False\n",
    "        else:\n",
    "            print(f\"ID {id} não é válido.\")\n",
    "            return False\n",
    "\n",
    "    def is_registered_in_table2(self, id):\n",
    "        \"\"\"Verifica se um ID está registrado na tabela nº2.\"\"\"\n",
    "        return id in self.table2\n",
    "\n",
    "# Exemplo de uso\n",
    "validator = IDValidator()\n",
    "\n",
    "# Carregar dados nas tabelas nº1 e nº3 (exemplo simplificado)\n",
    "table1_data = [f\"id_{i}\" for i in range(1, 3000001)]\n",
    "table3_data = [f\"id_{i}\" for i in range(1, 2001)]\n",
    "\n",
    "validator.load_data(table1_data, table3_data)\n",
    "\n",
    "# Validar e registrar IDs na tabela nº2\n",
    "validator.validate_and_register(\"id_1000\")  # ID válido\n",
    "validator.validate_and_register(\"id_1000\")  # Tentativa de registrar o mesmo ID novamente\n",
    "validator.validate_and_register(\"id_3000001\")  # ID inválido\n"
   ]
  }
 ],
 "metadata": {
  "kernelspec": {
   "display_name": ".venv",
   "language": "python",
   "name": "python3"
  },
  "language_info": {
   "codemirror_mode": {
    "name": "ipython",
    "version": 3
   },
   "file_extension": ".py",
   "mimetype": "text/x-python",
   "name": "python",
   "nbconvert_exporter": "python",
   "pygments_lexer": "ipython3",
   "version": "3.10.14"
  }
 },
 "nbformat": 4,
 "nbformat_minor": 2
}
