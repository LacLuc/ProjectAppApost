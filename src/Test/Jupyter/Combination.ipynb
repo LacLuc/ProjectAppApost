{
 "cells": [
  {
   "cell_type": "code",
   "execution_count": 3,
   "metadata": {},
   "outputs": [],
   "source": [
    "import itertools\n",
    "def gerar_combinacoes(n, k):\n",
    "    numeros = list(range(1, n + 1))\n",
    "    combinacoes = list(itertools.combinations(numeros, k))\n",
    "    return combinacoes"
   ]
  },
  {
   "cell_type": "code",
   "execution_count": null,
   "metadata": {},
   "outputs": [],
   "source": [
    "# Exemplo de uso\n",
    "n = 25  # Total de números disponíveis\n",
    "k = 15  # Total de números escolhidos\n",
    "combinacoes = gerar_combinacoes(n, k)\n",
    "\n",
    "# Exibir as primeiras 5 combinações para exemplo\n",
    "for combinacao in combinacoes[:5]:\n",
    "    print(combinacao)\n",
    "\n",
    "# Total de combinações\n",
    "print(f\"Total de combinações: {len(combinacoes)}\")"
   ]
  },
  {
   "cell_type": "code",
   "execution_count": 2,
   "metadata": {},
   "outputs": [],
   "source": [
    "import math"
   ]
  },
  {
   "cell_type": "code",
   "execution_count": null,
   "metadata": {},
   "outputs": [],
   "source": [
    "def calcular_combinacoes(n, k):\n",
    "    return math.factorial(n) // (math.factorial(k) * math.factorial(n - k))\n",
    "\n",
    "# Exemplo de uso\n",
    "n = 25\n",
    "k = 20\n",
    "resultado = calcular_combinacoes(n, k)\n",
    "print(f\"O número de combinações de {k} itens escolhidos de um total de {n} é {resultado}\")"
   ]
  },
  {
   "cell_type": "code",
   "execution_count": 4,
   "metadata": {},
   "outputs": [],
   "source": [
    "import itertools"
   ]
  },
  {
   "cell_type": "code",
   "execution_count": null,
   "metadata": {},
   "outputs": [],
   "source": [
    "def gerar_combinacoes(elementos, tamanho):\n",
    "    return list(itertools.combinations(elementos, tamanho))\n",
    "\n",
    "\n",
    "def calcular_combinacoes(n, k):\n",
    "    return math.factorial(n) // (math.factorial(k) * math.factorial(n - k))\n",
    "\n",
    "def rangeNumber(n):\n",
    "    tb = []\n",
    "    for y in range(n):\n",
    "        tb.append(y+1)\n",
    "    return tb\n",
    "\n",
    "def valorApostas(n):\n",
    "    apost = input(\"Loto, Mega: L/M: \")\n",
    "    if apost == \"L\":\n",
    "        if n == 15: Vlr = 3\n",
    "        elif n == 16: Vlr = 8\n",
    "        elif n == 17: Vlr = 408\n",
    "        elif n == 18: Vlr = 2448\n",
    "        elif n == 19: Vlr = 11628\n",
    "        elif n == 20: Vlr = 46512\n",
    "    elif apost == \"M\":\n",
    "        if n == 6: Vlr = 5\n",
    "        elif n == 7: Vlr = 35\n",
    "        elif n == 8: Vlr = 140\n",
    "        elif n == 9: Vlr = 420\n",
    "        elif n == 10: Vlr = 1050\n",
    "        elif n == 11: Vlr = 2310  \n",
    "        elif n == 12: Vlr = 4620 \n",
    "        elif n == 13: Vlr = 8580 \n",
    "        elif n == 14: Vlr = 15015 \n",
    "        elif n == 15: Vlr = 25025\n",
    "        elif n == 16: Vlr = 40040\n",
    "        elif n == 17: Vlr = 64880   \n",
    "        elif n == 18: Vlr = 92820\n",
    "        elif n == 19: Vlr = 135660\n",
    "        elif n == 20: Vlr = 193800\n",
    "    return Vlr\n",
    "\n",
    "J = input(\"Loto, Mega: L/M: \")\n",
    "if J == 'L':\n",
    "    x = 25\n",
    "elif J == 'L':\n",
    "    x = 60    \n",
    "    \n",
    "elementos = rangeNumber(x)   \n",
    "\n",
    "tamanho = input(\"Tamanho - Loto 15 a 20, Mega 6 a 20: \")\n",
    "\n",
    "combinacoes = gerar_combinacoes(elementos, tamanho)\n",
    "\n",
    "Valor = \"R${:,.2f}\".format(valorApostas(tamanho)).replace(',', 'X').replace('.', ',').replace('X', '.')\n",
    "    \n",
    "resultado = calcular_combinacoes(max(elementos), tamanho)\n",
    "\n",
    "Total = \"R${:,.2f}\".format(resultado * valorApostas(tamanho)).replace(',', 'X').replace('.', ',').replace('X', '.')\n",
    "\n",
    "print(f\"Combinações de {tamanho} elementos de {min(elementos)} até {max(elementos)}: {resultado} Vlr_Aposta:{Valor} Total:{Total}\")\n",
    "for indice, combinacao in enumerate(combinacoes, start=1):\n",
    "    print(f\"{str(indice).zfill(7)}: {combinacao}\")"
   ]
  }
 ],
 "metadata": {
  "kernelspec": {
   "display_name": ".venv",
   "language": "python",
   "name": "python3"
  },
  "language_info": {
   "codemirror_mode": {
    "name": "ipython",
    "version": 3
   },
   "file_extension": ".py",
   "mimetype": "text/x-python",
   "name": "python",
   "nbconvert_exporter": "python",
   "pygments_lexer": "ipython3",
   "version": "3.10.14"
  }
 },
 "nbformat": 4,
 "nbformat_minor": 2
}
